{
  "nbformat": 4,
  "nbformat_minor": 0,
  "metadata": {
    "colab": {
      "provenance": []
    },
    "kernelspec": {
      "name": "python3",
      "display_name": "Python 3"
    },
    "language_info": {
      "name": "python"
    }
  },
  "cells": [
    {
      "cell_type": "markdown",
      "source": [
        "#Python Basics"
      ],
      "metadata": {
        "id": "GXAzxh7pM9ny"
      }
    },
    {
      "cell_type": "markdown",
      "source": [
        "1. What is Python, and why is it popular?\n",
        "   - Python is a programming language. Python is popular because python is widely used in industry, python has a lot of libraries and it is used in image processing and databases.\n",
        "\n",
        "2. What is an interpreter in Python?\n",
        "   - A python interpreter is a computer program that translates python code into machine code that a computer can understand.\n",
        "\n",
        "3. What are pre-defined keywords in Python?\n",
        "   - Pre-defined keywords in python that hold a special meaning and have specific purpose.\n",
        "\n",
        "4. Can keywords be used as variable names?\n",
        "   - No, keywords cann't be used as variable names.\n",
        "\n",
        "5. What is mutability in Python?\n",
        "   - Mutability means change. It has ability to change an object's value after it has been created.\n",
        "\n",
        "6. Why are lists mutable, but tuples are immutable?\n",
        "   - Lists are mutable because we can change lists value after they are created but after creating tuples its value can not be change.\n",
        "\n",
        "7. What is the difference between “==” and “is” operators in Python?\n",
        "   - In python \"==\" operators used for comparing the equality of variables and \"is\" operators used for compare the identity of variables.\n",
        "\n",
        "8. What are logical operators in Python?\n",
        "   - Logical operators in python are \"and\", \"or\" and \"not\".\n",
        "\n",
        "9. What is type casting in Python?\n",
        "   - The process of changing the data type of a value/object is called type casting.\n",
        "\n",
        "10. What is the difference between implicit and explicit type casting?\n",
        "   - Implicit type casting is automatically done by python because python understand the data type but explicit type casting is done manually for convert data type using inbuilt functions like, \"str\", \"int\", \"float\".\n",
        "\n",
        "11. What is the purpose of conditional statements in Python?\n",
        "    - Conditional statements in python helps to code decisions based on some preconditions.\n",
        "\n",
        "12. How does the elif statement work?\n",
        "    - It can be used in conditional statements to check for multiple conditions.\n",
        "\n",
        "13. What is the difference between for and while loops?\n",
        "    - While loop is repeatedly executed a block of code until a condition is met, but for loop is used for iterate over a sequence of elements.\n",
        "\n",
        "14. Describe a scenario where a while loop is more suitable than a for loop.\n",
        "    - When we want to continue the loop without break using any condition when while loop is more suitable than a for loop."
      ],
      "metadata": {
        "id": "gpNT2foNNfGd"
      }
    },
    {
      "cell_type": "markdown",
      "source": [
        "#Practical Questions"
      ],
      "metadata": {
        "id": "pTdqpjDzbHi2"
      }
    },
    {
      "cell_type": "code",
      "source": [
        "#1. Write a Python program to print \"Hello, World!\"\n",
        "print (\"Hello, World!\")"
      ],
      "metadata": {
        "colab": {
          "base_uri": "https://localhost:8080/"
        },
        "id": "q90eYmSTbR4m",
        "outputId": "fdb58779-7e25-4266-d1e1-2661a46d43f8"
      },
      "execution_count": 1,
      "outputs": [
        {
          "output_type": "stream",
          "name": "stdout",
          "text": [
            "Hello, World!\n"
          ]
        }
      ]
    },
    {
      "cell_type": "code",
      "execution_count": 19,
      "metadata": {
        "colab": {
          "base_uri": "https://localhost:8080/"
        },
        "id": "1pGJEkD0Mnm2",
        "outputId": "aeb79611-c4bf-49e8-9de5-fa319b771b7c"
      },
      "outputs": [
        {
          "output_type": "stream",
          "name": "stdout",
          "text": [
            "My name is Rittwick Jash\n",
            "My age is 22\n"
          ]
        }
      ],
      "source": [
        "#2. Write a Python program that displays your name and age.\n",
        "name=\"Rittwick Jash\"\n",
        "age=22\n",
        "print(\"My name is\",name)\n",
        "print(\"My age is\",age)"
      ]
    },
    {
      "cell_type": "code",
      "source": [
        "#3. Write code to print all the pre-defined keywords in Python using the keyword library.\n",
        "help(\"keywords\")"
      ],
      "metadata": {
        "colab": {
          "base_uri": "https://localhost:8080/"
        },
        "id": "JomYlWnHdU-c",
        "outputId": "560c55d9-1241-4170-c990-a606e7b0d5e8"
      },
      "execution_count": 20,
      "outputs": [
        {
          "output_type": "stream",
          "name": "stdout",
          "text": [
            "\n",
            "Here is a list of the Python keywords.  Enter any keyword to get more help.\n",
            "\n",
            "False               class               from                or\n",
            "None                continue            global              pass\n",
            "True                def                 if                  raise\n",
            "and                 del                 import              return\n",
            "as                  elif                in                  try\n",
            "assert              else                is                  while\n",
            "async               except              lambda              with\n",
            "await               finally             nonlocal            yield\n",
            "break               for                 not                 \n",
            "\n"
          ]
        }
      ]
    },
    {
      "cell_type": "code",
      "source": [
        "#4. Write a program that checks if a given word is a Python keyword.\n",
        "import keyword\n",
        "b= keyword.iskeyword(\"try\")\n",
        "print(b)"
      ],
      "metadata": {
        "colab": {
          "base_uri": "https://localhost:8080/"
        },
        "id": "f8421xw4fio2",
        "outputId": "672a7042-eef1-448f-e263-56aad3b4c013"
      },
      "execution_count": 97,
      "outputs": [
        {
          "output_type": "stream",
          "name": "stdout",
          "text": [
            "True\n"
          ]
        }
      ]
    },
    {
      "cell_type": "code",
      "source": [
        "#5. Create a list and tuple in Python, and demonstrate how attempting to change an element works differently for each.\n",
        "list= [1,2,3, \"Rjash\", \"4+7j\",54]\n",
        "tuple= # sorry for this comment but sir tupple is not discussing in any class videos in module 02"
      ],
      "metadata": {
        "colab": {
          "base_uri": "https://localhost:8080/"
        },
        "id": "GAtVHymughXc",
        "outputId": "7ed2ecc5-66a5-4580-b939-6f8a88d9f681"
      },
      "execution_count": 80,
      "outputs": [
        {
          "output_type": "stream",
          "name": "stdout",
          "text": [
            "<class 'int'>\n"
          ]
        }
      ]
    },
    {
      "cell_type": "code",
      "source": [
        "#6. Write a function to demonstrate the behavior of mutable and immutable arguments.\n",
        "#mutable arguments\n",
        "mut_list= [2, 4, 5, \"Pjash\", 7+58j]\n",
        "print(mut_list[3])\n",
        "mut_list[3]= \"Rjash\"\n",
        "print(\"After Mutability:-\",mut_list[3])"
      ],
      "metadata": {
        "colab": {
          "base_uri": "https://localhost:8080/"
        },
        "id": "5PnwWDIPh4Mi",
        "outputId": "eba8c7a3-4cf6-4eb4-c8a9-5a68784ba119"
      },
      "execution_count": 68,
      "outputs": [
        {
          "output_type": "stream",
          "name": "stdout",
          "text": [
            "Pjash\n",
            "After Mutability:- Rjash\n"
          ]
        }
      ]
    },
    {
      "cell_type": "code",
      "source": [
        "#7. Write a function to demonstrate the behavior of mutable and immutable arguments.\n",
        "#immutable arguments\n",
        "b=\"Rittwick\"\n",
        "print(b[4])\n",
        "b[4]= \"J\"\n",
        "print(\"After Immutability:-\",b[4]) #get an error because str does not support item assignment"
      ],
      "metadata": {
        "colab": {
          "base_uri": "https://localhost:8080/",
          "height": 211
        },
        "id": "JjqkU0ohh4xC",
        "outputId": "024c1168-bda3-4e69-c8d9-570cda280967"
      },
      "execution_count": 71,
      "outputs": [
        {
          "output_type": "stream",
          "name": "stdout",
          "text": [
            "w\n"
          ]
        },
        {
          "output_type": "error",
          "ename": "TypeError",
          "evalue": "'str' object does not support item assignment",
          "traceback": [
            "\u001b[0;31m---------------------------------------------------------------------------\u001b[0m",
            "\u001b[0;31mTypeError\u001b[0m                                 Traceback (most recent call last)",
            "\u001b[0;32m<ipython-input-71-c3ba93b2f3e9>\u001b[0m in \u001b[0;36m<cell line: 5>\u001b[0;34m()\u001b[0m\n\u001b[1;32m      3\u001b[0m \u001b[0mb\u001b[0m\u001b[0;34m=\u001b[0m\u001b[0;34m\"Rittwick\"\u001b[0m\u001b[0;34m\u001b[0m\u001b[0;34m\u001b[0m\u001b[0m\n\u001b[1;32m      4\u001b[0m \u001b[0mprint\u001b[0m\u001b[0;34m(\u001b[0m\u001b[0mb\u001b[0m\u001b[0;34m[\u001b[0m\u001b[0;36m4\u001b[0m\u001b[0;34m]\u001b[0m\u001b[0;34m)\u001b[0m\u001b[0;34m\u001b[0m\u001b[0;34m\u001b[0m\u001b[0m\n\u001b[0;32m----> 5\u001b[0;31m \u001b[0mb\u001b[0m\u001b[0;34m[\u001b[0m\u001b[0;36m4\u001b[0m\u001b[0;34m]\u001b[0m\u001b[0;34m=\u001b[0m \u001b[0;34m\"J\"\u001b[0m\u001b[0;34m\u001b[0m\u001b[0;34m\u001b[0m\u001b[0m\n\u001b[0m\u001b[1;32m      6\u001b[0m \u001b[0mprint\u001b[0m\u001b[0;34m(\u001b[0m\u001b[0;34m\"After Immutability:-\"\u001b[0m\u001b[0;34m,\u001b[0m\u001b[0mb\u001b[0m\u001b[0;34m[\u001b[0m\u001b[0;36m4\u001b[0m\u001b[0;34m]\u001b[0m\u001b[0;34m)\u001b[0m \u001b[0;31m#get an error because str does not support item assignment\u001b[0m\u001b[0;34m\u001b[0m\u001b[0;34m\u001b[0m\u001b[0m\n",
            "\u001b[0;31mTypeError\u001b[0m: 'str' object does not support item assignment"
          ]
        }
      ]
    },
    {
      "cell_type": "code",
      "source": [
        "#8. Write a program to demonstrate the use of logical operators.\n",
        "a=1\n",
        "b=0\n",
        "c=a and b\n",
        "print (c)\n",
        "d=a or b\n",
        "print(d)\n",
        "e=not b\n",
        "print(e)"
      ],
      "metadata": {
        "colab": {
          "base_uri": "https://localhost:8080/"
        },
        "id": "DxnXy1xkh46b",
        "outputId": "49d9e21e-e7d5-4434-d61f-759e32231c5c"
      },
      "execution_count": 89,
      "outputs": [
        {
          "output_type": "stream",
          "name": "stdout",
          "text": [
            "0\n",
            "1\n",
            "True\n"
          ]
        }
      ]
    },
    {
      "cell_type": "code",
      "source": [
        "#9. Write a Python program to convert user input from string to integer, float, and boolean types.\n",
        "value=input(\"Enter any value:- \")\n",
        "print(type(value))\n",
        "a=int(value)\n",
        "print(a)\n",
        "b=float(value)\n",
        "print(b)\n",
        "c=bool(value)\n",
        "print(c)"
      ],
      "metadata": {
        "colab": {
          "base_uri": "https://localhost:8080/"
        },
        "id": "C1Q0IFGqh49T",
        "outputId": "d8a31ae5-3478-4fcd-ead8-1ef8dad8089a"
      },
      "execution_count": 79,
      "outputs": [
        {
          "output_type": "stream",
          "name": "stdout",
          "text": [
            "Enter any value:- 0\n",
            "<class 'str'>\n",
            "0\n",
            "0.0\n",
            "True\n"
          ]
        }
      ]
    },
    {
      "cell_type": "code",
      "source": [
        "#10. Write code to demonstrate type casting with list elements.\n",
        "list_cont= [5,65,\"25\",\"Rjash\", 3+5j]\n",
        "print(type(list_cont[2]))\n",
        "a=int(list_cont[2])\n",
        "b=5\n",
        "print(a*b)"
      ],
      "metadata": {
        "colab": {
          "base_uri": "https://localhost:8080/"
        },
        "id": "BeuNX7Ikh5AD",
        "outputId": "56c91360-b992-4838-a9b3-693f53f83f9b"
      },
      "execution_count": 76,
      "outputs": [
        {
          "output_type": "stream",
          "name": "stdout",
          "text": [
            "<class 'str'>\n",
            "125\n"
          ]
        }
      ]
    },
    {
      "cell_type": "code",
      "source": [
        "#11. Write a program that checks if a number is positive, negative, or zero.\n",
        "num=32\n",
        "if num>0:\n",
        "  print(\"Number is Positive\")\n",
        "elif num<0:\n",
        "    print(\"Number is Negative\")\n",
        "else:\n",
        "  print(\"Number is Zero\")\n",
        "\n"
      ],
      "metadata": {
        "colab": {
          "base_uri": "https://localhost:8080/"
        },
        "id": "8kJTbL9th5Cm",
        "outputId": "53f0abd0-bcce-401c-ce4c-87b28fd3dd9c"
      },
      "execution_count": 48,
      "outputs": [
        {
          "output_type": "stream",
          "name": "stdout",
          "text": [
            "Number is Positive\n"
          ]
        }
      ]
    },
    {
      "cell_type": "code",
      "source": [
        "#12. Write a for loop to print numbers from 1 to 10.\n",
        "for i in range (1,10):\n",
        "  print(i)\n"
      ],
      "metadata": {
        "colab": {
          "base_uri": "https://localhost:8080/"
        },
        "id": "P00fohSQjCNn",
        "outputId": "6b468ced-0dd0-4929-e681-3a90360d3348"
      },
      "execution_count": 32,
      "outputs": [
        {
          "output_type": "stream",
          "name": "stdout",
          "text": [
            "1\n",
            "2\n",
            "3\n",
            "4\n",
            "5\n",
            "6\n",
            "7\n",
            "8\n",
            "9\n"
          ]
        }
      ]
    },
    {
      "cell_type": "code",
      "source": [
        "#13. Write a Python program to find the sum of all even numbers between 1 and 50.\n",
        "sum=0\n",
        "for i in range (1,50):\n",
        "  if i%2==0:\n",
        "    sum=sum+i\n",
        "print(a)"
      ],
      "metadata": {
        "colab": {
          "base_uri": "https://localhost:8080/"
        },
        "id": "vr_lLPOAjCcG",
        "outputId": "b46d058d-947d-48d3-fbae-ea449fc9f7f8"
      },
      "execution_count": 60,
      "outputs": [
        {
          "output_type": "stream",
          "name": "stdout",
          "text": [
            "600\n"
          ]
        }
      ]
    },
    {
      "cell_type": "code",
      "source": [
        "#14. Write a program to reverse a string using a while loop.\n",
        "a=\"rittwick\"\n",
        "i=len(a)\n",
        "while i in range (len(a))>0:\n",
        "  print(a[i], end= \"\")\n",
        "  i=i-1\n"
      ],
      "metadata": {
        "id": "Lx8FX-fNjCjo"
      },
      "execution_count": 126,
      "outputs": []
    },
    {
      "cell_type": "code",
      "source": [
        "#15. Write a Python program to calculate the factorial of a number provided by the user using a while loop.\n",
        "num=int(input(\"Enter any Number:- \"))\n",
        "i=1\n",
        "j=1\n",
        "while num>=i:\n",
        "  j=j*i\n",
        "  i=i+1\n",
        "print(\"Factorial is \",j)"
      ],
      "metadata": {
        "colab": {
          "base_uri": "https://localhost:8080/"
        },
        "id": "qCbDeT7ojZS1",
        "outputId": "1d385f09-cc32-4b41-d761-9cc19aad60c6"
      },
      "execution_count": 117,
      "outputs": [
        {
          "output_type": "stream",
          "name": "stdout",
          "text": [
            "Enter any Number:- 7\n",
            "Factorial is  5040\n"
          ]
        }
      ]
    },
    {
      "cell_type": "markdown",
      "source": [
        "                                                                   **Complete**"
      ],
      "metadata": {
        "id": "Hk-7GZJ16_kI"
      }
    }
  ]
}